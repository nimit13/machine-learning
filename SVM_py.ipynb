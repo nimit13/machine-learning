{
  "nbformat": 4,
  "nbformat_minor": 0,
  "metadata": {
    "colab": {
      "name": "SVM.py",
      "version": "0.3.2",
      "provenance": [],
      "include_colab_link": true
    },
    "kernelspec": {
      "name": "python3",
      "display_name": "Python 3"
    }
  },
  "cells": [
    {
      "cell_type": "markdown",
      "metadata": {
        "id": "view-in-github",
        "colab_type": "text"
      },
      "source": [
        "<a href=\"https://colab.research.google.com/github/nimit13/machine-learning/blob/supervised-ML/SVM_py.ipynb\" target=\"_parent\"><img src=\"https://colab.research.google.com/assets/colab-badge.svg\" alt=\"Open In Colab\"/></a>"
      ]
    },
    {
      "cell_type": "code",
      "metadata": {
        "id": "BnbXSUnOMDZ-",
        "colab_type": "code",
        "colab": {}
      },
      "source": [
        "from sklearn.datasets import load_digits\n"
      ],
      "execution_count": 0,
      "outputs": []
    },
    {
      "cell_type": "code",
      "metadata": {
        "id": "JxbEDigUMLbw",
        "colab_type": "code",
        "colab": {}
      },
      "source": [
        "#loading digit data\n",
        "digit=load_digits()"
      ],
      "execution_count": 0,
      "outputs": []
    },
    {
      "cell_type": "code",
      "metadata": {
        "id": "iBBfk5f9MOUe",
        "colab_type": "code",
        "colab": {
          "base_uri": "https://localhost:8080/",
          "height": 34
        },
        "outputId": "baed1a1d-53b1-42a1-fcc9-cb04c89b9a73"
      },
      "source": [
        "# desc\n",
        "dir(digit)"
      ],
      "execution_count": 4,
      "outputs": [
        {
          "output_type": "execute_result",
          "data": {
            "text/plain": [
              "['DESCR', 'data', 'images', 'target', 'target_names']"
            ]
          },
          "metadata": {
            "tags": []
          },
          "execution_count": 4
        }
      ]
    },
    {
      "cell_type": "code",
      "metadata": {
        "id": "2qZ6R8n9MXT6",
        "colab_type": "code",
        "colab": {}
      },
      "source": [
        "#features\n",
        "features=digit.data"
      ],
      "execution_count": 0,
      "outputs": []
    },
    {
      "cell_type": "code",
      "metadata": {
        "id": "ZGY8DSBPMcSU",
        "colab_type": "code",
        "colab": {}
      },
      "source": [
        "#label\n",
        "label=digit.target"
      ],
      "execution_count": 0,
      "outputs": []
    },
    {
      "cell_type": "code",
      "metadata": {
        "id": "Nuuqngm6MhnK",
        "colab_type": "code",
        "colab": {}
      },
      "source": [
        "#trainig and testing\n",
        "from sklearn.model_selection import train_test_split\n",
        "X,x,Y,y=train_test_split(features,label,test_size=0.2)"
      ],
      "execution_count": 0,
      "outputs": []
    },
    {
      "cell_type": "code",
      "metadata": {
        "id": "ANeCLWAZM6Ek",
        "colab_type": "code",
        "colab": {}
      },
      "source": [
        "#data visualize\n",
        "import matplotlib.pyplot as plt"
      ],
      "execution_count": 0,
      "outputs": []
    },
    {
      "cell_type": "code",
      "metadata": {
        "id": "-12PzlW0NJnV",
        "colab_type": "code",
        "colab": {
          "base_uri": "https://localhost:8080/",
          "height": 287
        },
        "outputId": "153bdba6-dfb7-4183-cb17-c179a95804a1"
      },
      "source": [
        "plt.imshow(digit.images[0])"
      ],
      "execution_count": 10,
      "outputs": [
        {
          "output_type": "execute_result",
          "data": {
            "text/plain": [
              "<matplotlib.image.AxesImage at 0x7f847d3565f8>"
            ]
          },
          "metadata": {
            "tags": []
          },
          "execution_count": 10
        },
        {
          "output_type": "display_data",
          "data": {
            "image/png": "[encoded data removed]",
            "text/plain": [
              "<Figure size 432x288 with 1 Axes>"
            ]
          },
          "metadata": {
            "tags": []
          }
        }
      ]
    },
    {
      "cell_type": "code",
      "metadata": {
        "id": "yraZWLgfNP7l",
        "colab_type": "code",
        "colab": {}
      },
      "source": [
        "#now calling support vector SVC\n",
        "from sklearn.svm import SVC"
      ],
      "execution_count": 0,
      "outputs": []
    },
    {
      "cell_type": "code",
      "metadata": {
        "id": "bjVJRq2BNdUP",
        "colab_type": "code",
        "colab": {}
      },
      "source": [
        "#calling classifier\n",
        "clf=SVC()"
      ],
      "execution_count": 0,
      "outputs": []
    },
    {
      "cell_type": "code",
      "metadata": {
        "id": "GBp6OkB6PD4k",
        "colab_type": "code",
        "colab": {
          "base_uri": "https://localhost:8080/",
          "height": 72
        },
        "outputId": "689e4231-1b32-47e6-e444-0928c478af46"
      },
      "source": [
        "#now trsinaig my clf\n",
        "trained=clf.fit(X,Y)"
      ],
      "execution_count": 15,
      "outputs": [
        {
          "output_type": "stream",
          "text": [
            "/usr/local/lib/python3.6/dist-packages/sklearn/svm/base.py:193: FutureWarning: The default value of gamma will change from 'auto' to 'scale' in version 0.22 to account better for unscaled features. Set gamma explicitly to 'auto' or 'scale' to avoid this warning.\n",
            "  \"avoid this warning.\", FutureWarning)\n"
          ],
          "name": "stderr"
        }
      ]
    },
    {
      "cell_type": "code",
      "metadata": {
        "id": "fhYaabJlPLXR",
        "colab_type": "code",
        "colab": {
          "base_uri": "https://localhost:8080/",
          "height": 311
        },
        "outputId": "97b52539-e765-418f-d897-c88a123f01d8"
      },
      "source": [
        "#now time for prediction\n",
        "output=trained.predict(x)\n",
        "output"
      ],
      "execution_count": 16,
      "outputs": [
        {
          "output_type": "execute_result",
          "data": {
            "text/plain": [
              "array([9, 6, 0, 9, 4, 7, 9, 6, 4, 9, 9, 4, 9, 9, 9, 9, 9, 5, 9, 9, 9, 9,\n",
              "       7, 9, 4, 9, 3, 9, 9, 9, 4, 9, 2, 9, 9, 9, 9, 9, 9, 4, 9, 9, 9, 9,\n",
              "       4, 9, 6, 5, 9, 1, 9, 9, 6, 9, 3, 9, 9, 9, 1, 9, 3, 9, 5, 9, 3, 6,\n",
              "       9, 9, 9, 1, 6, 9, 2, 9, 9, 4, 3, 9, 0, 3, 9, 6, 9, 9, 9, 9, 7, 9,\n",
              "       9, 6, 9, 9, 2, 9, 9, 4, 9, 2, 9, 9, 4, 3, 9, 9, 5, 4, 9, 9, 6, 9,\n",
              "       9, 9, 9, 9, 9, 1, 1, 9, 9, 1, 9, 9, 2, 9, 6, 7, 9, 9, 9, 0, 9, 9,\n",
              "       8, 0, 9, 9, 6, 9, 9, 3, 9, 6, 9, 9, 9, 9, 5, 9, 9, 6, 5, 9, 3, 4,\n",
              "       3, 9, 9, 9, 9, 9, 9, 9, 9, 9, 9, 9, 6, 9, 9, 4, 0, 4, 7, 9, 9, 9,\n",
              "       9, 0, 9, 9, 9, 7, 9, 9, 2, 9, 6, 9, 5, 9, 5, 3, 9, 5, 3, 3, 9, 9,\n",
              "       9, 9, 3, 1, 7, 4, 9, 1, 9, 9, 9, 9, 3, 9, 5, 9, 1, 0, 2, 2, 9, 9,\n",
              "       9, 9, 4, 9, 4, 9, 9, 9, 9, 9, 9, 9, 0, 1, 2, 9, 6, 9, 9, 9, 9, 0,\n",
              "       9, 2, 3, 9, 7, 9, 0, 9, 9, 4, 9, 9, 9, 0, 9, 9, 9, 9, 2, 9, 9, 3,\n",
              "       7, 4, 0, 8, 5, 7, 0, 8, 6, 4, 9, 6, 9, 9, 6, 9, 7, 9, 9, 7, 9, 9,\n",
              "       4, 9, 9, 9, 1, 9, 9, 9, 9, 2, 1, 3, 9, 9, 2, 5, 2, 9, 7, 4, 6, 9,\n",
              "       9, 9, 9, 9, 9, 1, 0, 9, 2, 9, 9, 9, 9, 6, 9, 9, 4, 4, 9, 4, 0, 4,\n",
              "       9, 9, 1, 9, 9, 2, 9, 9, 9, 9, 9, 9, 3, 2, 9, 6, 0, 9, 9, 4, 9, 0,\n",
              "       9, 9, 9, 9, 2, 0, 3, 6])"
            ]
          },
          "metadata": {
            "tags": []
          },
          "execution_count": 16
        }
      ]
    },
    {
      "cell_type": "code",
      "metadata": {
        "id": "iajxIcyOPVOa",
        "colab_type": "code",
        "colab": {
          "base_uri": "https://localhost:8080/",
          "height": 311
        },
        "outputId": "37521354-dbbf-45d6-cf17-7903211b7390"
      },
      "source": [
        "y\n"
      ],
      "execution_count": 17,
      "outputs": [
        {
          "output_type": "execute_result",
          "data": {
            "text/plain": [
              "array([5, 6, 0, 5, 4, 7, 9, 6, 4, 7, 1, 4, 5, 1, 9, 4, 9, 5, 5, 7, 9, 7,\n",
              "       7, 0, 4, 1, 3, 3, 6, 8, 4, 9, 2, 3, 7, 3, 9, 9, 1, 4, 9, 7, 7, 7,\n",
              "       4, 2, 6, 5, 7, 1, 8, 7, 6, 9, 3, 9, 9, 8, 1, 2, 3, 1, 5, 7, 3, 6,\n",
              "       1, 4, 8, 1, 6, 8, 2, 7, 5, 4, 3, 2, 0, 3, 9, 6, 9, 8, 3, 7, 7, 8,\n",
              "       7, 6, 0, 7, 2, 1, 3, 4, 2, 2, 5, 5, 4, 3, 3, 5, 5, 4, 7, 8, 6, 6,\n",
              "       9, 1, 9, 9, 5, 1, 1, 5, 1, 1, 1, 8, 2, 1, 6, 7, 8, 9, 1, 0, 5, 7,\n",
              "       8, 0, 8, 5, 6, 3, 1, 3, 8, 6, 3, 9, 0, 6, 5, 6, 9, 6, 5, 3, 3, 4,\n",
              "       3, 7, 8, 2, 5, 3, 7, 5, 7, 5, 7, 8, 6, 9, 8, 4, 0, 4, 7, 5, 3, 6,\n",
              "       9, 0, 0, 6, 5, 7, 7, 8, 2, 7, 6, 5, 5, 8, 5, 3, 2, 5, 3, 3, 8, 9,\n",
              "       3, 9, 3, 1, 7, 4, 8, 1, 7, 2, 8, 8, 3, 2, 5, 7, 1, 0, 2, 2, 0, 6,\n",
              "       9, 0, 4, 8, 4, 7, 5, 0, 7, 3, 9, 3, 0, 1, 2, 8, 6, 1, 2, 5, 8, 0,\n",
              "       1, 2, 3, 5, 7, 8, 0, 3, 9, 4, 6, 0, 5, 0, 2, 5, 9, 8, 2, 8, 8, 3,\n",
              "       7, 4, 0, 8, 5, 7, 0, 8, 6, 4, 1, 6, 8, 7, 6, 0, 7, 5, 5, 7, 2, 6,\n",
              "       4, 6, 5, 3, 1, 4, 2, 0, 6, 2, 1, 3, 5, 9, 2, 5, 2, 9, 7, 4, 6, 1,\n",
              "       0, 9, 3, 5, 7, 1, 0, 6, 2, 8, 5, 1, 3, 6, 8, 5, 4, 4, 3, 4, 0, 4,\n",
              "       9, 1, 1, 5, 0, 2, 9, 9, 8, 1, 8, 2, 3, 2, 7, 6, 0, 2, 1, 4, 0, 0,\n",
              "       7, 2, 3, 4, 2, 0, 3, 6])"
            ]
          },
          "metadata": {
            "tags": []
          },
          "execution_count": 17
        }
      ]
    },
    {
      "cell_type": "code",
      "metadata": {
        "id": "ApntvegJPYX1",
        "colab_type": "code",
        "colab": {}
      },
      "source": [
        "from sklearn.metrics import accuracy_score\n"
      ],
      "execution_count": 0,
      "outputs": []
    },
    {
      "cell_type": "code",
      "metadata": {
        "id": "HTrN8SmuPhf6",
        "colab_type": "code",
        "colab": {
          "base_uri": "https://localhost:8080/",
          "height": 34
        },
        "outputId": "0bee3c89-5ed0-4107-b8f0-a04df7051878"
      },
      "source": [
        "accuracy_score(output,y)"
      ],
      "execution_count": 21,
      "outputs": [
        {
          "output_type": "execute_result",
          "data": {
            "text/plain": [
              "0.5027777777777778"
            ]
          },
          "metadata": {
            "tags": []
          },
          "execution_count": 21
        }
      ]
    },
    {
      "cell_type": "code",
      "metadata": {
        "id": "FBrOFXsgPnKE",
        "colab_type": "code",
        "colab": {}
      },
      "source": [
        ""
      ],
      "execution_count": 0,
      "outputs": []
    }
  ]
}