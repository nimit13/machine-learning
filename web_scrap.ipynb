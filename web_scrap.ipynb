{
  "nbformat": 4,
  "nbformat_minor": 0,
  "metadata": {
    "colab": {
      "name": "web_scrap.ipynb",
      "version": "0.3.2",
      "provenance": [],
      "collapsed_sections": [],
      "include_colab_link": true
    },
    "kernelspec": {
      "name": "python3",
      "display_name": "Python 3"
    }
  },
  "cells": [
    {
      "cell_type": "markdown",
      "metadata": {
        "id": "view-in-github",
        "colab_type": "text"
      },
      "source": [
        "<a href=\"https://colab.research.google.com/github/nimit13/machine-learning/blob/NLP/web_scrap.ipynb\" target=\"_parent\"><img src=\"https://colab.research.google.com/assets/colab-badge.svg\" alt=\"Open In Colab\"/></a>"
      ]
    },
    {
      "cell_type": "code",
      "metadata": {
        "id": "2_8EiUf88_gJ",
        "colab_type": "code",
        "colab": {}
      },
      "source": [
        "from nltk.corpus import stopwords\n",
        "import nltk\n",
        "import requests"
      ],
      "execution_count": 0,
      "outputs": []
    },
    {
      "cell_type": "code",
      "metadata": {
        "id": "kO5AM6-q9834",
        "colab_type": "code",
        "colab": {}
      },
      "source": [
        "dir(requests)"
      ],
      "execution_count": 0,
      "outputs": []
    },
    {
      "cell_type": "code",
      "metadata": {
        "id": "_7Jpi0Ma_XLA",
        "colab_type": "code",
        "colab": {}
      },
      "source": [
        "#webdata=requests.get('https://php.net')"
      ],
      "execution_count": 0,
      "outputs": []
    },
    {
      "cell_type": "code",
      "metadata": {
        "id": "gDmZJd1U_sy2",
        "colab_type": "code",
        "colab": {}
      },
      "source": [
        "#webdata"
      ],
      "execution_count": 0,
      "outputs": []
    },
    {
      "cell_type": "code",
      "metadata": {
        "id": "xy4nkmU2ENNC",
        "colab_type": "code",
        "colab": {
          "base_uri": "https://localhost:8080/",
          "height": 34
        },
        "outputId": "6f1a6f14-5a39-4bad-bc28-73339272179a"
      },
      "source": [
        "#webdata #response code of http\n",
        "#200 means OK\n",
        "#302 means url is redirected\n",
        "#404 NOT FOUND\n",
        "#505 means server is not permitting for web scraping"
      ],
      "execution_count": 23,
      "outputs": [
        {
          "output_type": "execute_result",
          "data": {
            "text/plain": [
              "<Response [200]>"
            ]
          },
          "metadata": {
            "tags": []
          },
          "execution_count": 23
        }
      ]
    },
    {
      "cell_type": "code",
      "metadata": {
        "id": "GXD1IeY5ExvP",
        "colab_type": "code",
        "colab": {}
      },
      "source": [
        "#now getting actual data of any website/url\n",
        "#htmldata=webdata.text"
      ],
      "execution_count": 0,
      "outputs": []
    },
    {
      "cell_type": "code",
      "metadata": {
        "id": "T96cKPBuE5QY",
        "colab_type": "code",
        "colab": {}
      },
      "source": [
        "#htmldata\n"
      ],
      "execution_count": 0,
      "outputs": []
    },
    {
      "cell_type": "code",
      "metadata": {
        "id": "NViVzEjaFECA",
        "colab_type": "code",
        "colab": {}
      },
      "source": [
        "#from bs4 import BeautifulSoup"
      ],
      "execution_count": 0,
      "outputs": []
    },
    {
      "cell_type": "code",
      "metadata": {
        "id": "hm0eD-wKGkS9",
        "colab_type": "code",
        "colab": {}
      },
      "source": [
        "#soup=BeautifulSoup(htmldata,'html5lib')"
      ],
      "execution_count": 0,
      "outputs": []
    },
    {
      "cell_type": "code",
      "metadata": {
        "id": "PlfqSja5Gqlo",
        "colab_type": "code",
        "colab": {
          "base_uri": "https://localhost:8080/",
          "height": 34
        },
        "outputId": "241c4ba4-25da-465f-903d-b813b9808b40"
      },
      "source": [
        "type(soup)"
      ],
      "execution_count": 32,
      "outputs": [
        {
          "output_type": "execute_result",
          "data": {
            "text/plain": [
              "bs4.BeautifulSoup"
            ]
          },
          "metadata": {
            "tags": []
          },
          "execution_count": 32
        }
      ]
    },
    {
      "cell_type": "code",
      "metadata": {
        "id": "lgTYGPfsG5CJ",
        "colab_type": "code",
        "colab": {}
      },
      "source": [
        "clean_data=soup.get_text()"
      ],
      "execution_count": 0,
      "outputs": []
    },
    {
      "cell_type": "code",
      "metadata": {
        "id": "4ye_7J_RHbDo",
        "colab_type": "code",
        "colab": {}
      },
      "source": [
        "\n",
        "clean_data"
      ],
      "execution_count": 0,
      "outputs": []
    },
    {
      "cell_type": "code",
      "metadata": {
        "id": "meu17jylHcWX",
        "colab_type": "code",
        "colab": {}
      },
      "source": [
        "\n",
        "with open(\"mywebdata.txt\",'w+') as f:\n",
        "  f.write(clean_data)"
      ],
      "execution_count": 0,
      "outputs": []
    },
    {
      "cell_type": "code",
      "metadata": {
        "id": "PmhCT8JoHfiz",
        "colab_type": "code",
        "colab": {}
      },
      "source": [
        "#reading from a file \n",
        "f=open(\"mywebdata.txt\",'r') \n",
        "\n",
        "mydata=f.read()\n",
        "f.close()"
      ],
      "execution_count": 0,
      "outputs": []
    },
    {
      "cell_type": "code",
      "metadata": {
        "id": "4u7N1BpLIlRF",
        "colab_type": "code",
        "colab": {}
      },
      "source": [
        "newdata1=[i for i in mydata.split()]"
      ],
      "execution_count": 0,
      "outputs": []
    },
    {
      "cell_type": "code",
      "metadata": {
        "id": "aSt1ZGxNJnuC",
        "colab_type": "code",
        "colab": {}
      },
      "source": [
        "import matplotlib.pyplot as plt\n",
        "import nltk"
      ],
      "execution_count": 0,
      "outputs": []
    },
    {
      "cell_type": "code",
      "metadata": {
        "id": "37EdhOc4KJHT",
        "colab_type": "code",
        "colab": {}
      },
      "source": [
        "#dir(nltk)"
      ],
      "execution_count": 0,
      "outputs": []
    },
    {
      "cell_type": "code",
      "metadata": {
        "id": "_H5XC9L2KLO_",
        "colab_type": "code",
        "colab": {}
      },
      "source": [
        "# this will plot data\n",
        "#[i for i in dir(nltk) if 'Freq' in i]"
      ],
      "execution_count": 0,
      "outputs": []
    },
    {
      "cell_type": "code",
      "metadata": {
        "id": "-oDb2FUbKbk8",
        "colab_type": "code",
        "colab": {}
      },
      "source": [
        "nlpdata=nltk.FreqDist(newdata1)"
      ],
      "execution_count": 0,
      "outputs": []
    },
    {
      "cell_type": "code",
      "metadata": {
        "id": "FhbbJ6AVKmYQ",
        "colab_type": "code",
        "colab": {}
      },
      "source": [
        "#nlpdata"
      ],
      "execution_count": 0,
      "outputs": []
    },
    {
      "cell_type": "code",
      "metadata": {
        "id": "9A17b1d1KoWC",
        "colab_type": "code",
        "colab": {
          "base_uri": "https://localhost:8080/",
          "height": 326
        },
        "outputId": "a9a0e77d-31ba-476d-e886-6c2548c67a21"
      },
      "source": [
        "nlpdata.plot(20)"
      ],
      "execution_count": 56,
      "outputs": [
        {
          "output_type": "display_data",
          "data": {
            "image/png": "[encoded data removed]",
            "text/plain": [
              "<Figure size 432x288 with 1 Axes>"
            ]
          },
          "metadata": {
            "tags": []
          }
        }
      ]
    },
    {
      "cell_type": "code",
      "metadata": {
        "id": "LVVxVbgCK19V",
        "colab_type": "code",
        "colab": {}
      },
      "source": [
        "from nltk.corpus import stopwords"
      ],
      "execution_count": 0,
      "outputs": []
    },
    {
      "cell_type": "code",
      "metadata": {
        "id": "Um3nu8ehLsoV",
        "colab_type": "code",
        "colab": {}
      },
      "source": [
        "removedata=[i for i in newdata1 if i not in stopwords.words('english')]"
      ],
      "execution_count": 0,
      "outputs": []
    },
    {
      "cell_type": "code",
      "metadata": {
        "id": "d03ws_Z_L8di",
        "colab_type": "code",
        "colab": {}
      },
      "source": [
        "nlpremove=nltk.FreqDist(removedata)"
      ],
      "execution_count": 0,
      "outputs": []
    },
    {
      "cell_type": "code",
      "metadata": {
        "id": "qILJl4AyL_R3",
        "colab_type": "code",
        "colab": {
          "base_uri": "https://localhost:8080/",
          "height": 327
        },
        "outputId": "0ebce81f-687b-428f-e317-8321b98bdc17"
      },
      "source": [
        "nlpremove.plot(12)"
      ],
      "execution_count": 85,
      "outputs": [
        {
          "output_type": "display_data",
          "data": {
            "image/png": "[encoded data removed]",
            "text/plain": [
              "<Figure size 432x288 with 1 Axes>"
            ]
          },
          "metadata": {
            "tags": []
          }
        }
      ]
    },
    {
      "cell_type": "code",
      "metadata": {
        "id": "zKskYpPCMFM4",
        "colab_type": "code",
        "colab": {}
      },
      "source": [
        ""
      ],
      "execution_count": 0,
      "outputs": []
    }
  ]
}